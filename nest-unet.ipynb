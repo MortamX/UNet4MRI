{
 "cells": [
  {
   "cell_type": "code",
   "execution_count": 1,
   "metadata": {},
   "outputs": [],
   "source": [
    "from tensorflow.keras.layers import Layer, Input, Conv2D, BatchNormalization, Activation, MaxPool2D, Conv2DTranspose, Concatenate, Dropout\n",
    "from tensorflow.keras.models import Model\n",
    "from tensorflow.keras.optimizers import Adam\n",
    "from tensorflow.keras.utils import plot_model"
   ]
  },
  {
   "cell_type": "code",
   "execution_count": 2,
   "metadata": {},
   "outputs": [],
   "source": [
    "class Up(Layer):\n",
    "    def __init__(self, filters, dropout_rate, kernel_size, batchnorm):\n",
    "        super(Up, self).__init__()\n",
    "        self.trans_conv = Conv2DTranspose(filters, kernel_size, strides = (2, 2), padding = 'same')\n",
    "        self.dropout = Dropout(dropout_rate)\n",
    "        self.double_conv = DoubleConv2D(filters, kernel_size, batchnorm)\n",
    "\n",
    "    def call(self, VerticalConvInput, list_HorizontalConvInput):\n",
    "        x = self.trans_conv(VerticalConvInput)\n",
    "        x = Concatenate()([x]+list_HorizontalConvInput)\n",
    "        x = self.dropout(x)\n",
    "        VerticalConvOutput = self.double_conv(x)\n",
    "\n",
    "        return VerticalConvOutput\n",
    "\n",
    "class Down(Layer):\n",
    "\n",
    "    def __init__(self, filters, kernel_size, dropout_rate, batchnorm):\n",
    "        super(Down, self).__init__()\n",
    "        self.double_conv = DoubleConv2D(filters, kernel_size, batchnorm)\n",
    "        self.maxpool = MaxPool2D((2, 2))\n",
    "        self.dropout = Dropout(dropout_rate)\n",
    "    \n",
    "    def call(self, input_tensor):\n",
    "        conv_output = self.double_conv(input_tensor)\n",
    "        pool_output = self.maxpool(conv_output)\n",
    "        pool_output = self.dropout(pool_output)\n",
    "\n",
    "        return conv_output, pool_output\n",
    "    \n",
    "class DoubleConv2D(Layer):\n",
    "\n",
    "    def __init__(self, filters, kernel_size, batchnorm):\n",
    "        super(DoubleConv2D, self).__init__()\n",
    "        self.conv1 = Conv2D(filters = filters, kernel_size = kernel_size, kernel_initializer = 'he_normal', padding = 'same')\n",
    "        self.conv2 = Conv2D(filters = filters, kernel_size = kernel_size, kernel_initializer = 'he_normal', padding = 'same')\n",
    "        self.batchnorm = batchnorm\n",
    "\n",
    "    def call(self, input_tensor):    \n",
    "        x = self.conv1(input_tensor)\n",
    "        #if self.batchnorm : x = BatchNormalization()(x)\n",
    "        x = Activation('relu')(x)\n",
    "        x = self.conv2(x)\n",
    "        #if self.batchnorm : x = BatchNormalization()(x)\n",
    "        x = Activation('relu')(x)\n",
    "        return x\n",
    "\n",
    "class Supervision(Layer):\n",
    "\n",
    "    def __init__(self, deep):\n",
    "        super(Supervision, self).__init__()\n",
    "        self.deep = deep\n",
    "        if deep:\n",
    "            self.list_Conv2D = []\n",
    "            for i in range(4):\n",
    "                self.list_Conv2D.append(Conv2D(1, (1, 1), activation='sigmoid', kernel_initializer = 'he_normal', padding='same'))\n",
    "        else:\n",
    "            self.Conv2D = Conv2D(1, (1, 1), activation='sigmoid', kernel_initializer = 'he_normal', padding='same')\n",
    "    \n",
    "    def call(self, list_SegmentationBranches):\n",
    "        if self.deep:\n",
    "            return [self.list_Conv2D[i](list_SegmentationBranches[i]) for i in range(len(list_SegmentationBranches))]\n",
    "        else:\n",
    "            return self.Conv2D(list_SegmentationBranches[0])\n",
    "        "
   ]
  },
  {
   "cell_type": "code",
   "execution_count": 3,
   "metadata": {},
   "outputs": [],
   "source": [
    "class NestedUNet(Model):\n",
    "\n",
    "    def __init__(self, n_filters, dropout_rate, deep, batchnorm):\n",
    "\n",
    "        super(NestedUNet, self).__init__()\n",
    "\n",
    "        self.Border_Down_0 = Down(filters = n_filters * 1, kernel_size = 2, dropout_rate = dropout_rate, batchnorm = batchnorm)\n",
    "        self.Border_Down_1 = Down(filters = n_filters * 2, kernel_size = 2, dropout_rate = dropout_rate, batchnorm = batchnorm)\n",
    "        self.Border_Down_2 = Down(filters = n_filters * 4, kernel_size = 2, dropout_rate = dropout_rate, batchnorm = batchnorm)\n",
    "        self.Border_Down_3 = Down(filters = n_filters * 8, kernel_size = 2, dropout_rate = dropout_rate, batchnorm = batchnorm)\n",
    "\n",
    "        self.Nest_0_1 = Up(filters = n_filters * 1, kernel_size = 2, dropout_rate = dropout_rate, batchnorm = batchnorm)\n",
    "        self.Nest_1_1 = Up(filters = n_filters * 2, kernel_size = 2, dropout_rate = dropout_rate, batchnorm = batchnorm)\n",
    "        self.Nest_0_2 = Up(filters = n_filters * 1, kernel_size = 2, dropout_rate = dropout_rate, batchnorm = batchnorm)\n",
    "        self.Nest_2_1 = Up(filters = n_filters * 4, kernel_size = 2, dropout_rate = dropout_rate, batchnorm = batchnorm)\n",
    "        self.Nest_1_2 = Up(filters = n_filters * 2, kernel_size = 2, dropout_rate = dropout_rate, batchnorm = batchnorm)\n",
    "        self.Nest_0_3 = Up(filters = n_filters * 1, kernel_size = 2, dropout_rate = dropout_rate, batchnorm = batchnorm)\n",
    "        \n",
    "        self.transition_double_conv = DoubleConv2D(filters = n_filters * 16, kernel_size = 2, batchnorm = batchnorm)\n",
    "        \n",
    "        self.Border_Up_3 = Up(filters = n_filters * 8, kernel_size = 2, dropout_rate = dropout_rate, batchnorm = batchnorm)\n",
    "        self.Border_Up_2 = Up(filters = n_filters * 4, kernel_size = 2, dropout_rate = dropout_rate, batchnorm = batchnorm)       \n",
    "        self.Border_Up_1 = Up(filters = n_filters * 2, kernel_size = 2, dropout_rate = dropout_rate, batchnorm = batchnorm)\n",
    "        self.Border_Up_0 = Up(filters = n_filters * 1, kernel_size = 2, dropout_rate = dropout_rate, batchnorm = batchnorm)\n",
    "\n",
    "        self.deep = deep\n",
    "        self.supervision = Supervision(deep)\n",
    "\n",
    "    def build(self, input_shape):\n",
    "        super(NestedUNet, self).build(input_shape)\n",
    "    \n",
    "    def call(self, inputs):\n",
    "\n",
    "        border_down_0, pooling_0 = self.Border_Down_0(inputs)\n",
    "        border_down_1, pooling_1 = self.Border_Down_1(pooling_0)\n",
    "        border_down_2, pooling_2 = self.Border_Down_2(pooling_1)\n",
    "        border_down_3, pooling_3 = self.Border_Down_3(pooling_2)\n",
    "\n",
    "        nest_0_1 = self.Nest_0_1(border_down_1, [border_down_0])\n",
    "        nest_1_1 = self.Nest_1_1(border_down_2, [border_down_1])\n",
    "        nest_0_2 = self.Nest_0_2(nest_1_1, [border_down_0, nest_0_1])\n",
    "        nest_2_1 = self.Nest_2_1(border_down_3, [border_down_2])\n",
    "        nest_1_2 = self.Nest_1_2(nest_2_1, [border_down_1, nest_1_1])\n",
    "        nest_0_3 = self.Nest_0_3(nest_1_2, [border_down_0, nest_0_1, nest_0_2])\n",
    "\n",
    "        thalweg = self.transition_double_conv(pooling_3)\n",
    "        \n",
    "        border_up_3 = self.Border_Up_3(thalweg, [border_down_3])\n",
    "        border_up_2 = self.Border_Up_2(border_up_3, [border_down_2, nest_2_1])        \n",
    "        border_up_1 = self.Border_Up_1(border_up_2, [border_down_1, nest_1_1, nest_1_2])\n",
    "        border_up_0 = self.Border_Up_0(border_up_1, [border_down_0, nest_0_1, nest_0_2, nest_0_3])\n",
    "        \n",
    "        if self.deep:\n",
    "            outputs = self.supervision([nest_0_1, nest_0_2, nest_0_3, border_up_0])\n",
    "        else:\n",
    "            outputs = self.supervision([border_up_0])\n",
    "                \n",
    "        return outputs"
   ]
  },
  {
   "cell_type": "code",
   "execution_count": 14,
   "metadata": {},
   "outputs": [
    {
     "name": "stdout",
     "output_type": "stream",
     "text": [
      "Model: \"nested_u_net_2\"\n",
      "_________________________________________________________________\n",
      "Layer (type)                 Output Shape              Param #   \n",
      "=================================================================\n",
      "down_8 (Down)                multiple                  1248      \n",
      "_________________________________________________________________\n",
      "down_9 (Down)                multiple                  6208      \n",
      "_________________________________________________________________\n",
      "down_10 (Down)               multiple                  24704     \n",
      "_________________________________________________________________\n",
      "down_11 (Down)               multiple                  98560     \n",
      "_________________________________________________________________\n",
      "up_20 (Up)                   multiple                  5168      \n",
      "_________________________________________________________________\n",
      "up_21 (Up)                   multiple                  20576     \n",
      "_________________________________________________________________\n",
      "up_22 (Up)                   multiple                  6192      \n",
      "_________________________________________________________________\n",
      "up_23 (Up)                   multiple                  82112     \n",
      "_________________________________________________________________\n",
      "up_24 (Up)                   multiple                  24672     \n",
      "_________________________________________________________________\n",
      "up_25 (Up)                   multiple                  7216      \n",
      "_________________________________________________________________\n",
      "double_conv2d_40 (DoubleConv multiple                  393728    \n",
      "_________________________________________________________________\n",
      "up_26 (Up)                   multiple                  328064    \n",
      "_________________________________________________________________\n",
      "up_27 (Up)                   multiple                  98496     \n",
      "_________________________________________________________________\n",
      "up_28 (Up)                   multiple                  28768     \n",
      "_________________________________________________________________\n",
      "up_29 (Up)                   multiple                  8240      \n",
      "_________________________________________________________________\n",
      "supervision_2 (Supervision)  multiple                  17        \n",
      "=================================================================\n",
      "Total params: 1,133,969\n",
      "Trainable params: 1,133,969\n",
      "Non-trainable params: 0\n",
      "_________________________________________________________________\n"
     ]
    }
   ],
   "source": [
    "nUNet = NestedUNet(16,0.05,False,False)\n",
    "nUNet.build((None,256,256,3))\n",
    "nUNet.compile(optimizer=Adam(), loss='binary_crossentropy', metrics=['accuracy'])\n",
    "nUNet.summary()"
   ]
  },
  {
   "cell_type": "code",
   "execution_count": 15,
   "metadata": {},
   "outputs": [
    {
     "data": {
      "image/png": "[encoded data removed]",
      "text/plain": [
       "<IPython.core.display.Image object>"
      ]
     },
     "execution_count": 15,
     "metadata": {},
     "output_type": "execute_result"
    }
   ],
   "source": [
    "plot_model(nUNet, to_file='../assets/nested-unet.png', show_shapes=True, expand_nested=True)"
   ]
  },
  {
   "cell_type": "code",
   "execution_count": 16,
   "metadata": {},
   "outputs": [],
   "source": [
    "import numpy as np"
   ]
  },
  {
   "cell_type": "code",
   "execution_count": 25,
   "metadata": {},
   "outputs": [],
   "source": [
    "input = np.random.normal(size=(32,256,256,3))"
   ]
  },
  {
   "cell_type": "code",
   "execution_count": 26,
   "metadata": {},
   "outputs": [
    {
     "data": {
      "text/plain": [
       "TensorShape([32, 256, 256, 1])"
      ]
     },
     "execution_count": 26,
     "metadata": {},
     "output_type": "execute_result"
    }
   ],
   "source": [
    "nUNet(input).shape"
   ]
  }
 ],
 "metadata": {
  "interpreter": {
   "hash": "d190daf6c967f8d20238722b0f8124df8ccbc3ae5a4dde14ddcb79cb9594df45"
  },
  "kernelspec": {
   "display_name": "Python 3.9.7 64-bit ('nlp': conda)",
   "language": "python",
   "name": "python3"
  },
  "language_info": {
   "codemirror_mode": {
    "name": "ipython",
    "version": 3
   },
   "file_extension": ".py",
   "mimetype": "text/x-python",
   "name": "python",
   "nbconvert_exporter": "python",
   "pygments_lexer": "ipython3",
   "version": "3.9.7"
  },
  "orig_nbformat": 4
 },
 "nbformat": 4,
 "nbformat_minor": 2
}
